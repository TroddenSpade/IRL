{
  "nbformat": 4,
  "nbformat_minor": 0,
  "metadata": {
    "colab": {
      "provenance": [],
      "collapsed_sections": []
    },
    "kernelspec": {
      "name": "python3",
      "display_name": "Python 3"
    },
    "language_info": {
      "name": "python"
    }
  },
  "cells": [
    {
      "cell_type": "code",
      "execution_count": 140,
      "metadata": {
        "id": "w-G7as9b6_dF"
      },
      "outputs": [],
      "source": [
        "from tqdm import tqdm\n",
        "import numpy as np\n",
        "import matplotlib.pyplot as plt"
      ]
    },
    {
      "cell_type": "code",
      "source": [
        "class GridWorld:\n",
        "    def __init__(self, grid_size=5, wind=0.2):\n",
        "        # (0,0) bottom left corner (x,y)\n",
        "        self.names = [\"Right\", \"Down\", \"Left\", \"Up\"]\n",
        "        self.actions = [(1,0),(0,1),(-1,0),(0,-1)]\n",
        "        self.n_actions = len(self.actions)\n",
        "        self.n_states = grid_size**2\n",
        "        self.wind = float(wind)\n",
        "        \n",
        "        self.grid_size = grid_size\n",
        "        self.grid = np.zeros((grid_size, grid_size))\n",
        "\n",
        "        self.features = np.eye(self.n_states)\n",
        "    \n",
        "        self.state = 0\n",
        "\n",
        "\n",
        "    def reward(self, state_p):\n",
        "        return 1 if state_p == self.n_states-1 else 0\n",
        "        \n",
        "\n",
        "    def reset(self):\n",
        "        self.state = 0\n",
        "        return self.state\n",
        "\n",
        "\n",
        "    def step(self, a):\n",
        "        probs = np.zeros(self.n_states)\n",
        "        for s_p in range(self.n_states):\n",
        "            probs[s_p] = self.dynamics(s_p, a, self.state)\n",
        "\n",
        "        self.state = np.random.choice(self.n_states, p=probs)\n",
        "        return self.state\n",
        "\n",
        "\n",
        "    def dynamics(self, s_p, a, s):\n",
        "        x_a, y_a = self.actions[a]\n",
        "        x, y = s%self.grid_size, s//self.grid_size\n",
        "        x_p, y_p = s_p%self.grid_size, s_p//self.grid_size\n",
        "\n",
        "        if not (0 <= x_p < self.grid_size and 0 <= y_p < self.grid_size):\n",
        "            return 0.0\n",
        "        if not (0 <= x < self.grid_size and 0 <= y < self.grid_size):\n",
        "            return 0.0\n",
        "\n",
        "        if abs(x-x_p) + abs(y-y_p) > 1:\n",
        "            return 0.0\n",
        "\n",
        "        if (x+x_a, y+y_a) == (x_p, y_p):\n",
        "            return 1 - self.wind + self.wind/self.n_actions\n",
        "\n",
        "        if (x, y) == (x_p, y_p):\n",
        "            if not (0 <= x+x_a < self.grid_size and 0 <= y+y_a < self.grid_size):\n",
        "                if (x,y) in [(0,0), (0,self.grid_size-1), (self.grid_size-1,0), (self.grid_size-1,self.grid_size-1)]:\n",
        "                    return 1 - self.wind + 2*self.wind/self.n_actions\n",
        "                else:\n",
        "                    return 1 - self.wind + self.wind/self.n_actions\n",
        "            else:\n",
        "                if (x,y) in [(0,0), (0,self.grid_size-1), (self.grid_size-1,0), (self.grid_size-1,self.grid_size-1)]:\n",
        "                    return 2 * self.wind/self.n_actions\n",
        "                elif x == 0 or x == self.grid_size-1 or y == 0 or y == self.grid_size-1:\n",
        "                    return self.wind/self.n_actions\n",
        "                else:\n",
        "                    return 0.0\n",
        "       \n",
        "        return self.wind/self.n_actions\n",
        "\n",
        "    \n",
        "    def test(self):\n",
        "        for s in range(self.n_states):\n",
        "            print(\"/// State: \", s)\n",
        "            for a in range(self.n_actions):\n",
        "                print(\"/// Action: \", self.names[a])\n",
        "                probs = np.zeros((self.grid_size*self.grid_size))\n",
        "                for s_p in range(self.n_states):\n",
        "                    probs[s_p] = self.dynamics(s_p, a, s)\n",
        "                print(probs.reshape(-1, self.grid_size))\n",
        "\n",
        "\n",
        "    def optimal_policy(self, state):\n",
        "        x, y = state%self.grid_size, state//self.grid_size\n",
        "        if x > y:\n",
        "            return 1\n",
        "        elif x < y:\n",
        "            return 0\n",
        "        else:\n",
        "            return np.random.randint(2)\n",
        "\n",
        "\n",
        "    def generate_trajectories(self, num, length, policy=None):\n",
        "        if not policy:\n",
        "            policy = self.optimal_policy\n",
        "\n",
        "        trajs = []\n",
        "        for n in range(num):\n",
        "            t = []\n",
        "            state = self.reset()\n",
        "            for i in range(length):\n",
        "                action = policy(state)\n",
        "                state_p = self.step(action)\n",
        "                t.append([state, action])\n",
        "                state = state_p\n",
        "            trajs.append(t)\n",
        "        return np.array(trajs)"
      ],
      "metadata": {
        "id": "VjHbmPine3kg"
      },
      "execution_count": 146,
      "outputs": []
    },
    {
      "cell_type": "code",
      "source": [
        "def value_iteration(threshold, env, rewards, discount=0.01):\n",
        "    transition = env.dynamics\n",
        "    V = np.zeros(env.n_states)\n",
        "    delta = np.inf\n",
        "\n",
        "    while delta > threshold:\n",
        "        delta = 0\n",
        "        for s in range(env.n_states):\n",
        "            max_v = -np.inf\n",
        "            for a in range(env.n_actions):\n",
        "                probs = np.zeros((env.n_states))\n",
        "                for s_p in range(env.n_states):\n",
        "                    probs[s_p] = transition(s_p, a, s)\n",
        "                max_v = max(max_v, np.dot(probs, rewards + discount * V))\n",
        "            delta = max(delta, abs(V[s] - max_v))\n",
        "            V[s] = max_v\n",
        "\n",
        "    policy = np.zeros((env.n_states, env.n_actions))\n",
        "    for s in range(env.n_states):\n",
        "        idx = None\n",
        "        max_v = -np.inf\n",
        "        for a in range(env.n_actions):\n",
        "            probs = np.zeros((env.n_states))\n",
        "            for s_p in range(env.n_states):\n",
        "                probs[s_p] = transition(s_p, a, s)\n",
        "            policy[s, a] = np.dot(probs, rewards + discount * V)\n",
        "\n",
        "    policy = policy - policy.max(axis=1, keepdims=True)\n",
        "    exps = np.exp(policy)\n",
        "    policy = exps / exps.sum(axis=1, keepdims=True)\n",
        "    return policy"
      ],
      "metadata": {
        "id": "GMGZ_eCVa44q"
      },
      "execution_count": 147,
      "outputs": []
    },
    {
      "cell_type": "code",
      "source": [
        "class MaximumEntropy:\n",
        "    def __init__(self, env, trajectories, features, lr=0.01, discount=0.01):\n",
        "        self.env = env\n",
        "        self.features = features\n",
        "        self.trajectories = trajectories\n",
        "        self.num_t = trajectories.shape[0]\n",
        "        self.len_t = trajectories.shape[1]\n",
        "\n",
        "        self.theta = np.random.uniform(size=(env.n_states,))\n",
        "        self.discount = discount\n",
        "        self.lr = lr\n",
        "\n",
        "\n",
        "    def expected_features(self):\n",
        "        exp_f = np.zeros_like(self.features[0])\n",
        "        for traj in self.trajectories:\n",
        "            for s, *_ in traj:\n",
        "                exp_f += self.features[s]\n",
        "        return exp_f / self.num_t\n",
        "\n",
        "\n",
        "    def expected_state_visitation_frequency(self, policy):\n",
        "        # probability of visiting the initial state\n",
        "        prob_initial_state = np.zeros(self.env.n_states)\n",
        "        for traj in self.trajectories:\n",
        "            prob_initial_state[traj[0, 0]] += 1.0\n",
        "        prob_initial_state = prob_initial_state / self.num_t\n",
        "\n",
        "        # Compute 𝜇\n",
        "        mu = np.repeat([prob_initial_state], self.len_t, axis=0)\n",
        "        for t in range(1, self.len_t):\n",
        "            mu[t, :] = 0\n",
        "            for s in range(self.env.n_states):\n",
        "                for a in range(self.env.n_actions):\n",
        "                    for s_p in range(self.env.n_states):\n",
        "                        mu[t, s] += mu[t-1, s_p] * policy[s_p, a] * self.env.dynamics(s_p, a, s)\n",
        "        return mu.sum(axis=0)\n",
        "\n",
        "\n",
        "    def train(self, n_epochs):\n",
        "        exp_f = self.expected_features()\n",
        "\n",
        "        for i in tqdm(range(n_epochs)):\n",
        "            rewards = self.features.dot(self.theta)\n",
        "            policy = value_iteration(self.discount, self.env, rewards)\n",
        "            exp_svf = self.expected_state_visitation_frequency(policy)\n",
        "\n",
        "            grads = exp_f - exp_svf @ self.features\n",
        "            self.theta += self.lr * grads\n",
        "\n",
        "        return self.features.dot(self.theta)"
      ],
      "metadata": {
        "id": "bvZBvIKaPaxk"
      },
      "execution_count": 148,
      "outputs": []
    },
    {
      "cell_type": "code",
      "source": [
        "grid_size = 5\n",
        "random_rate = 0.2\n",
        "num_trajectories = 20\n",
        "len_trajectory = 15\n",
        "\n",
        "n_epochs = 200\n",
        "discount = 0.01\n",
        "lr = 0.01"
      ],
      "metadata": {
        "id": "pcXbc8eYRsAc"
      },
      "execution_count": 155,
      "outputs": []
    },
    {
      "cell_type": "code",
      "source": [
        "gw = GridWorld(grid_size, random_rate)\n",
        "trajs = gw.generate_trajectories(num_trajectories, len_trajectory)\n",
        "features = np.eye(gw.n_states)"
      ],
      "metadata": {
        "id": "A0R1gdDbRwyr"
      },
      "execution_count": 156,
      "outputs": []
    },
    {
      "cell_type": "code",
      "source": [
        "me = MaximumEntropy(gw, trajs, features, lr, discount)\n",
        "rewards = me.train(n_epochs)"
      ],
      "metadata": {
        "colab": {
          "base_uri": "https://localhost:8080/"
        },
        "id": "swlvIk7aS_Cw",
        "outputId": "efd20a10-697e-49f0-9a72-925fc744182a"
      },
      "execution_count": 157,
      "outputs": [
        {
          "output_type": "stream",
          "name": "stderr",
          "text": [
            "100%|██████████| 200/200 [00:23<00:00,  8.45it/s]\n"
          ]
        }
      ]
    },
    {
      "cell_type": "code",
      "source": [
        "true_rewards = np.array([gw.reward(s) for s in range(grid_size*grid_size)]).reshape(grid_size, grid_size)"
      ],
      "metadata": {
        "id": "TQnSo4OuT0ze"
      },
      "execution_count": 158,
      "outputs": []
    },
    {
      "cell_type": "code",
      "source": [
        "rewards = rewards.reshape(grid_size, grid_size)"
      ],
      "metadata": {
        "id": "MdaS8Yl2SwVO"
      },
      "execution_count": 159,
      "outputs": []
    },
    {
      "cell_type": "code",
      "source": [
        "plt.subplot(1, 2, 1)\n",
        "plt.pcolor(true_rewards)\n",
        "plt.colorbar()\n",
        "plt.title(\"Real reward\")\n",
        "plt.subplot(1, 2, 2)\n",
        "plt.pcolor(rewards)\n",
        "plt.colorbar()\n",
        "plt.title(\"Generated reward\")\n",
        "plt.show()"
      ],
      "metadata": {
        "colab": {
          "base_uri": "https://localhost:8080/",
          "height": 281
        },
        "id": "vvPJ4HAmTsIG",
        "outputId": "112b3618-54dc-494c-f4c5-0cd5428bfe14"
      },
      "execution_count": 160,
      "outputs": [
        {
          "output_type": "display_data",
          "data": {
            "text/plain": [
              "<Figure size 432x288 with 4 Axes>"
            ],
            "image/png": "[encoded data removed]"
          },
          "metadata": {
            "needs_background": "light"
          }
        }
      ]
    }
  ]
}